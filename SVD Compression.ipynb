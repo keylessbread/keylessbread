{
 "cells": [
  {
   "cell_type": "code",
   "execution_count": null,
   "id": "03c76b19",
   "metadata": {},
   "outputs": [],
   "source": [
    "#Standardizing Random Array"
   ]
  },
  {
   "cell_type": "code",
   "execution_count": null,
   "id": "b1c51e94",
   "metadata": {},
   "outputs": [],
   "source": [
    "#Generate Random Array and mean center\n",
    "X = np.random.rand(15, 10)\n",
    "\n",
    "Y=X - X.mean(axis=1, keepdims=True)\n",
    "print(X)\n",
    "print(Y)\n",
    "mean(Y[0,:])X = np.random.rand(15, 10)\n",
    "\n",
    "Y=X - X.mean(axis=1, keepdims=True)\n",
    "print(X)\n",
    "print(Y)\n",
    "mean(Y[0,:])"
   ]
  },
  {
   "cell_type": "code",
   "execution_count": null,
   "id": "23b9864a",
   "metadata": {},
   "outputs": [],
   "source": [
    "#Singular Value Decomposition\n",
    "U, S_diag, V_T = LA.svd(Y)\n",
    "scatter(arange(Y.shape[1]),S_diag)\n",
    "\n",
    "print(S_diag[0:20])"
   ]
  },
  {
   "cell_type": "code",
   "execution_count": null,
   "id": "6f827cf2",
   "metadata": {},
   "outputs": [],
   "source": [
    "#Low Rank Approximation\n",
    "def compression_rate(rank,Y):\n",
    "    n,m=X.shape\n",
    "    CR=((m*rank)+(rank)+(rank*n))/(n*m)\n",
    "    return CR\n",
    "\n",
    "\n",
    "X4hat = U[:,0:4].dot(diag(S_diag[0:4])).dot(V_T[0:4,:])\n",
    "X8hat = U[:,0:8].dot(diag(S_diag[0:8])).dot(V_T[0:8,:])\n",
    "X16hat = U[:,0:16].dot(diag(S_diag[0:16])).dot(V_T[0:16,:])\n",
    "fig, (ax1, ax2, ax3) = plt.subplots(1,3)\n",
    "ax1.imshow(X4hat, cmap='gray')\n",
    "ax2.imshow(X8hat, cmap='gray')\n",
    "ax3.imshow(X16hat, cmap='gray')\n",
    "\n",
    "print('compression rate for X_4 is ', compression_rate(4, X))\n",
    "print('compression rate for X_8 is ', compression_rate(8, X))\n",
    "print('compression rate for X_16 is ', compression_rate(16, X))"
   ]
  },
  {
   "cell_type": "code",
   "execution_count": null,
   "id": "7740dac0",
   "metadata": {},
   "outputs": [],
   "source": [
    "#  Eckart–Young–Mirsky theorem(EYM)\n",
    "#calculate the 2-norm\n",
    "print(norm(X-X4hat,2))\n",
    "print(S_diag[4])\n",
    "print(allclose(norm(X-X4hat,2),S_diag[4]))\n",
    "print(norm(X-X8hat,2))\n",
    "print(S_diag[8])\n",
    "print(norm(X-X16hat,2))\n",
    "print(S_diag[16])\n",
    "\n",
    "#calculate the fro-norm\n",
    "print(norm(X-X4hat))\n",
    "print(norm(S_diag[4:]))\n",
    "\n",
    "print(norm(X-X8hat))\n",
    "print(norm(S_diag[8:]))\n",
    "\n",
    "print(norm(X-X16hat))\n",
    "print(norm(S_diag[16:]))"
   ]
  }
 ],
 "metadata": {
  "kernelspec": {
   "display_name": "Python 3 (ipykernel)",
   "language": "python",
   "name": "python3"
  },
  "language_info": {
   "codemirror_mode": {
    "name": "ipython",
    "version": 3
   },
   "file_extension": ".py",
   "mimetype": "text/x-python",
   "name": "python",
   "nbconvert_exporter": "python",
   "pygments_lexer": "ipython3",
   "version": "3.10.9"
  }
 },
 "nbformat": 4,
 "nbformat_minor": 5
}
