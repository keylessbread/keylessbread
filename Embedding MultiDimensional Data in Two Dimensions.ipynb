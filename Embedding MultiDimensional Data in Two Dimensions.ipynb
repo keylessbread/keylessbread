{
 "cells": [
  {
   "cell_type": "code",
   "execution_count": null,
   "id": "c281fc33",
   "metadata": {},
   "outputs": [],
   "source": [
    "%pylab inline \n",
    "import numpy.linalg as LA\n",
    "import pandas as pd\n",
    "import numpy as np"
   ]
  },
  {
   "cell_type": "code",
   "execution_count": null,
   "id": "a7f24e93",
   "metadata": {},
   "outputs": [],
   "source": [
    "#Initializing Practice Data\n",
    "from sklearn.datasets import make_blobs\n",
    "\n",
    "def plot_clusters(X, y=None, Mu_array=0):\n",
    "    fig, ax = plt.subplots(figsize=(6, 4))\n",
    "    plt.scatter(X[:, 0], X[:, 1], c=y, s=1)\n",
    "    if sum(Mu_array) != 0:\n",
    "        plt.scatter(Mu_array[:,0],Mu_array[:,1],marker=\"x\", color=\"black\", linewidth=2)\n",
    "        \n",
    "    plt.xlabel(\"$x_1$\", fontsize=14)\n",
    "    plt.ylabel(\"$x_2$\", fontsize=14, rotation=0)\n",
    "    plt.grid()\n",
    "    plt.tight_layout()  \n",
    "    plt.show()     \n",
    "\n",
    "\n",
    "if 0:\n",
    "    blob_centers = np.array(\n",
    "        [[ 0.2,  2.3],\n",
    "         [-1.5 ,  2.3],\n",
    "         [-2.8,  1.8],\n",
    "         [-2.8,  2.8],\n",
    "         [-2.8,  1.3]])\n",
    "    blob_std = np.array([0.4, 0.3, 0.1, 0.1, 0.1])\n",
    "    X, y = make_blobs(n_samples=2000, centers=blob_centers,\n",
    "                      cluster_std=blob_std, random_state=7)\n",
    "\n",
    "if 1:\n",
    "    # two off-diagonal blobs\n",
    "    X1, _ = make_blobs(n_samples=1000, centers=((4, -4), (0, 0)), random_state=42)\n",
    "    X1 = X1.dot(np.array([[0.374, 0.95], [0.732, 0.598]]))\n",
    "    # three spherical blobs\n",
    "    blob_centers = np.array(\n",
    "        [[ -4,  1],\n",
    "         [-4 ,  3],\n",
    "         [-4,  -2]])\n",
    "    s = 0.5\n",
    "    blob_std = np.array([s, s, s])\n",
    "    X2, _ = make_blobs(n_samples=1000, centers=blob_centers,\n",
    "                      cluster_std=blob_std, random_state=7)\n",
    "    \n",
    "    X = np.r_[X1, X2]\n",
    "    K = 5\n",
    "    \n",
    "figure()\n",
    "plot_clusters(X)"
   ]
  },
  {
   "cell_type": "code",
   "execution_count": null,
   "id": "6509735a",
   "metadata": {},
   "outputs": [],
   "source": [
    "#Embedding Dimensions for one dimension Kmeans\n",
    "halfs=((X+1)*(X-1))\n",
    "quarts=(halfs*(X**2 + 1))\n",
    "base_ten=np.log(((X*halfs-X)*(halfs+X)-1)*((X*halfs+X)*(halfs-X)+1))\n",
    "Cplane=np.where(base_ten<0,(base_ten),0)\n",
    "Rplane=np.where(base_ten>=0,((base_ten)),0)\n",
    "print(np.shape(X1))\n",
    "print(np.shape(X2))\n",
    "print(np.shape(Rplane))\n",
    "\n",
    "salty=np.matmul(X1,(Rplane.T))\n",
    "T=np.matmul(salty.T,X2)\n",
    "Qspace=T-Rplane\n",
    "\n",
    "planes=np.r_[Rplane,Cplane]\n",
    "decomp=np.matmul(X,planes.T)\n",
    "d=np.matmul(decomp.T,X)\n",
    "r=(abs(d-planes))**(1/2)\n",
    "Id=np.matmul(r,r.T)\n",
    "\n",
    "entry=np.array([(i/j) for i in (X[:,0]**2) for j in (X[:,1]**2)])\n",
    "\n",
    "plot_clusters(X)\n",
    "plot_clusters(np.cos(Qspace*X))\n",
    "plot_clusters(planes)\n",
    "\n",
    "Z=planes\n",
    "Y=np.cos(Qspace*X)\n"
   ]
  },
  {
   "cell_type": "code",
   "execution_count": null,
   "id": "ceb4ced8",
   "metadata": {},
   "outputs": [],
   "source": []
  }
 ],
 "metadata": {
  "kernelspec": {
   "display_name": "Python 3 (ipykernel)",
   "language": "python",
   "name": "python3"
  },
  "language_info": {
   "codemirror_mode": {
    "name": "ipython",
    "version": 3
   },
   "file_extension": ".py",
   "mimetype": "text/x-python",
   "name": "python",
   "nbconvert_exporter": "python",
   "pygments_lexer": "ipython3",
   "version": "3.10.9"
  }
 },
 "nbformat": 4,
 "nbformat_minor": 5
}
