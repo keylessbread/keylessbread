{
  "nbformat": 4,
  "nbformat_minor": 0,
  "metadata": {
    "colab": {
      "provenance": []
    },
    "kernelspec": {
      "name": "python3",
      "display_name": "Python 3"
    },
    "language_info": {
      "name": "python"
    }
  },
  "cells": [
    {
      "cell_type": "markdown",
      "metadata": {
        "id": "view-in-github"
      },
      "source": [
        "<a href=\"https://colab.research.google.com/github/yexf308/MAT592/blob/main/homework/HW2.ipynb\" target=\"_parent\"><img src=\"https://colab.research.google.com/assets/colab-badge.svg\" alt=\"Open In Colab\"/></a>"
      ]
    },
    {
      "cell_type": "markdown",
      "metadata": {
        "id": "0PPmXK0NPB16"
      },
      "source": [
        "# Homework 2\n",
        "## Homework guideline\n",
        "- The deadline is Mar 10th 10:30am. Submission after the deadline will not be graded.\n",
        "\n",
        "- Submit your work(your reasoning and your code) as a SINGLE .ipynb document. Please rename the document as _HW1_YOURNAME.ipynb_ (for example, _HW1_FELIX.ipynb_). You are responsible for checking that you have correctly submitted the correct document. If your code cannot run, you may receive NO point.\n",
        "\n",
        "- Please justify all short answers with a brief explanation.\n",
        "\n",
        "- You only use the Python packages included in the following cell. You are not allowed to use other advanced package or modules unless you are permitted to.\n",
        "\n",
        "- In your final submission include the plots produced by the unedited code as presented below, as well as any additional plots produced after editing the code during the course of a problem. You may find it necessary to copy/paste relevant code into additional cells to accomplish this.\n",
        "\n",
        "- Feel free to use the lecture notes and other resources but work on your own!"
      ]
    },
    {
      "cell_type": "code",
      "metadata": {
        "colab": {
          "base_uri": "https://localhost:8080/"
        },
        "id": "tZDH51c-2EU1",
        "outputId": "593197f2-4a4d-40ca-e779-4d81603796ac"
      },
      "source": [
        "%pylab inline\n"
      ],
      "execution_count": null,
      "outputs": [
        {
          "output_type": "stream",
          "name": "stdout",
          "text": [
            "Populating the interactive namespace from numpy and matplotlib\n"
          ]
        }
      ]
    },
    {
      "cell_type": "markdown",
      "source": [
        "# Q1: Numpy practice problems (10pt)\n"
      ],
      "metadata": {
        "id": "ls3W51wD3Nkp"
      }
    },
    {
      "cell_type": "markdown",
      "source": [
        "### Q1.1  Find the most frequent value in an array $Z$ (*)"
      ],
      "metadata": {
        "id": "BnS0XHHC3WQR"
      }
    },
    {
      "cell_type": "code",
      "source": [
        "Z = np.random.randint(0,10,500)\n",
        "# insert your code here\n",
        "np.bincount(Z).argmax()"
      ],
      "metadata": {
        "id": "fWYEYkUa3dCG"
      },
      "execution_count": null,
      "outputs": []
    },
    {
      "cell_type": "markdown",
      "source": [
        "### Q1.2 Find the nearest value from a given value $z$ in an array $Z$ (*)"
      ],
      "metadata": {
        "id": "GjnIyAqf4c3B"
      }
    },
    {
      "cell_type": "code",
      "source": [
        "Z = np.random.uniform(0,1,10)\n",
        "z = 0.5\n",
        "# insert your code here\n",
        "index = (np.abs(Z-z)).argmin()\n",
        "Z[index]"
      ],
      "metadata": {
        "id": "bUwlrgAn4kuq"
      },
      "execution_count": null,
      "outputs": []
    },
    {
      "cell_type": "markdown",
      "source": [
        "# Q2: Implementation of derivative from HW1 (15pt)\n",
        "### Q2.1 Softmax function (5pt) (**)\n",
        "Implement a function ```softmax(z)``` such that calculate the sigmoid function. Verify it with several examples. For example, ```softmax([1000, 2000, 3000])```\n",
        "\n"
      ],
      "metadata": {
        "id": "y2bzksSY_oZk"
      }
    },
    {
      "cell_type": "code",
      "source": [
        "# your function starts here\n",
        "def softmax(z):\n",
        "    z_max = max(z)\n",
        "    e = np.exp(z-z_max)\n",
        "    return e / e.sum(axis=0)\n",
        "\n",
        "z = np.array([1000, 2000, 3000])\n",
        "softmax(z)"
      ],
      "metadata": {
        "id": "qWKLU3RvAarw",
        "colab": {
          "base_uri": "https://localhost:8080/"
        },
        "outputId": "80bf1623-e4ec-408c-828b-98e6fdec36e8"
      },
      "execution_count": null,
      "outputs": [
        {
          "output_type": "execute_result",
          "data": {
            "text/plain": [
              "array([0., 0., 1.])"
            ]
          },
          "metadata": {},
          "execution_count": 3
        }
      ]
    },
    {
      "cell_type": "markdown",
      "source": [
        "### Q2.2 Derivative of Softmax function (10pt) (**)\n",
        "Implement a function ```Dsoftmax(z)``` such that caluclate the gradient of softmax function. Verify it with several examples."
      ],
      "metadata": {
        "id": "HtoWXH2IAio5"
      }
    },
    {
      "cell_type": "code",
      "source": [
        "# your function starts here\n",
        "\n",
        "def Dsoftmax(z):\n",
        "  Z = softmax(z)\n",
        "  N = Z.shape[0]\n",
        "  G = np.ones([N,N])\n",
        "  for i in range(N):\n",
        "    for j in range(N):\n",
        "      if i == j:\n",
        "        G[i,j] = Z[i] * (1-Z[i])\n",
        "      else:\n",
        "        G[i,j] = -Z[i]*Z[j]\n",
        "  return G\n",
        "z = np.array([1000, 2000, 3000])\n",
        "Dsoftmax(z)\n"
      ],
      "metadata": {
        "id": "w_g3sJjZBett",
        "colab": {
          "base_uri": "https://localhost:8080/"
        },
        "outputId": "57d50f98-9432-48b2-da8b-d14c586de88c"
      },
      "execution_count": null,
      "outputs": [
        {
          "output_type": "execute_result",
          "data": {
            "text/plain": [
              "array([[ 0., -0., -0.],\n",
              "       [-0.,  0., -0.],\n",
              "       [-0., -0.,  0.]])"
            ]
          },
          "metadata": {},
          "execution_count": 4
        }
      ]
    },
    {
      "cell_type": "markdown",
      "metadata": {
        "id": "rtKWusbFzQIk"
      },
      "source": [
        "# Modified MNIST\n",
        "I modified the the original MNIST gray-scale image dataset, where samples of digit 9 belong to class 1, and otherwise class 0. Now it becomes binary logistic regression.\n",
        "It contains a training set of images $\\texttt{Xtr}$ with labels $\\texttt{Ytr}$ and a testing set\n",
        "of images $\\texttt{Xte}$ with labels $\\texttt{Yte}$. There are 6000 samples in training sets and 1000 samples in testing sets."
      ]
    },
    {
      "cell_type": "code",
      "metadata": {
        "colab": {
          "base_uri": "https://localhost:8080/"
        },
        "id": "egCp1Xyi2A60",
        "outputId": "888ac945-5976-444a-cb8e-9cc6f9d4aa40"
      },
      "source": [
        "from keras.datasets import mnist\n",
        "(train_X, train_y), (test_X, test_y) = mnist.load_data()\n",
        "Xtr                   = train_X[0:6000, :]\n",
        "train_y_part          = train_y[0:6000]\n",
        "Ytr                   = zeros(train_y_part.size)\n",
        "Ytr[train_y_part==9]=1\n",
        "\n",
        "Xte                   = test_X[0:1000,:]\n",
        "test_y_part           = test_y[0:1000]\n",
        "Yte  = zeros(test_y_part.size)\n",
        "Yte[test_y_part==9]=1\n",
        "\n",
        "print('Xtr: ' + str(Xtr.shape))\n",
        "print('Ytr: ' + str(Ytr.shape))\n",
        "print('Xte: '  + str(Xte.shape))\n",
        "print('Yte: '  + str(Yte.shape))\n",
        "\n"
      ],
      "execution_count": null,
      "outputs": [
        {
          "output_type": "stream",
          "name": "stdout",
          "text": [
            "Downloading data from https://storage.googleapis.com/tensorflow/tf-keras-datasets/mnist.npz\n",
            "11493376/11490434 [==============================] - 0s 0us/step\n",
            "11501568/11490434 [==============================] - 0s 0us/step\n",
            "Xtr: (6000, 28, 28)\n",
            "Ytr: (6000,)\n",
            "Xte: (1000, 28, 28)\n",
            "Yte: (1000,)\n"
          ]
        }
      ]
    },
    {
      "cell_type": "code",
      "metadata": {
        "colab": {
          "base_uri": "https://localhost:8080/",
          "height": 593
        },
        "id": "mTnDjIzx3R24",
        "outputId": "2438efb0-c423-4060-a263-36bbde80a105"
      },
      "source": [
        "fig, axs = plt.subplots(3, 3,figsize=(10,10))\n",
        "axs = axs.ravel()\n",
        "index = where(Ytr>0)[0]\n",
        "for i in range(9):\n",
        "    axs[i].imshow(Xtr[index[i]], cmap=pyplot.get_cmap('gray'))"
      ],
      "execution_count": null,
      "outputs": [
        {
          "output_type": "display_data",
          "data": {
            "image/png": "[encoded data removed]",
            "text/plain": [
              "<Figure size 720x720 with 9 Axes>"
            ]
          },
          "metadata": {
            "needs_background": "light"
          }
        }
      ]
    },
    {
      "cell_type": "markdown",
      "metadata": {
        "id": "_f5Jvc-04O05"
      },
      "source": [
        "## Q3: Logistic regression (30pt)\n",
        "\n",
        "---\n",
        "\n",
        "\n",
        "### 1. Data preparation for training and testing (10pt) (*)\n",
        "Prepare your matrix $\\mathbf{X}$ and your output label $\\mathbf{y}$ for the training data. Please count the number of 9 out of these 60000 training set. What is the dimension of the matrix $\\mathbf{X}$. Don't forget to do the same preparation for the testing data."
      ]
    },
    {
      "cell_type": "code",
      "metadata": {
        "id": "zfPxewPNPaxI",
        "colab": {
          "base_uri": "https://localhost:8080/"
        },
        "outputId": "3f14f476-b056-4aac-a1bc-40133ebfce45"
      },
      "source": [
        " #@title Q3.1 your code starts here\n",
        "\n",
        "X_tr = Xtr.reshape(Xtr.shape[0],Xtr.shape[1]*Xtr.shape[2])\n",
        "Xtrain = hstack([ones((Xtr.shape[0],1)),X_tr])\n",
        "ytrain = Ytr\n",
        "print(\"The number of 9 is\", int(sum(ytrain)))\n",
        "print(Xtrain.shape)\n",
        "\n",
        "X_te = Xte.reshape(Xte.shape[0],Xte.shape[1]*Xte.shape[2])\n",
        "Xtest = hstack([ones((Xte.shape[0],1)),X_te])\n",
        "ytest = Yte\n",
        "print(Xtest.shape)"
      ],
      "execution_count": null,
      "outputs": [
        {
          "output_type": "stream",
          "name": "stdout",
          "text": [
            "The number of 9 is 601\n",
            "(6000, 785)\n",
            "(1000, 785)\n"
          ]
        }
      ]
    },
    {
      "cell_type": "markdown",
      "metadata": {
        "id": "ERvvzBXc5khg"
      },
      "source": [
        "### **Your Answer:**"
      ]
    },
    {
      "cell_type": "markdown",
      "metadata": {
        "id": "joKAPaOEnOu-"
      },
      "source": [
        "\n",
        "---\n",
        "### 2. Logistic regression (20pt) (**)\n",
        "\n",
        "Perform logistic regression with the sigmoid activation function using **mini-batches descent method**. The mini-batch size is 25, the learning rate is $\\eta_t = \\frac{1}{(1+2t)^3}$ and total iteration number is $50$. You might need to restart the training with better initial conditions. Modify my code to accomodate it.\n",
        "\n",
        "Please use the testing set to validate the logistic regression model. What is the test error rate?  Could you plot serveral pictures that logistic regression model misclassified the digit 9.\n"
      ]
    },
    {
      "cell_type": "code",
      "metadata": {
        "id": "rqnurYHKpfEO",
        "colab": {
          "base_uri": "https://localhost:8080/"
        },
        "outputId": "ebaa35cc-92ad-4ca1-ae55-5e5adeaae434"
      },
      "source": [
        " #@title Q3.2 your code starts here\n",
        "def predict(x, w):\n",
        "\tz = x.dot(w)\n",
        "\treturn 1.0 / (1.0 + exp(-clip(z,-200,200)))\n",
        "def train_weights(X, y, l_rate_span, n_iter, weights, batch_size, threshold=0.002):\n",
        "  n, m    = X.shape\n",
        "  for iter in range(n_iter):\n",
        "    l_rate   = l_rate_span[iter]\n",
        "    sum_error = 0;\n",
        "    arr = np.arange(n)\n",
        "    random.shuffle(arr)\n",
        "    for i in range(int(n/batch_size)):\n",
        "      batch_sum = 0\n",
        "      batch = arr[i*batch_size:(i+1)*batch_size]\n",
        "      for j in batch:\n",
        "        prediction = predict(X[j,:], weights)\n",
        "        error      = prediction - y[j]\n",
        "        sum_error  = error**2 + sum_error\n",
        "        batch_sum = batch_sum + error*X[j,:]\n",
        "      weights    = weights - (l_rate/batch_size) * batch_sum\n",
        "    print('sum_error at ',iter+1, 'iteration is ', sum_error)\n",
        "    if sum_error<threshold:\n",
        "      break\n",
        "  return weights\n",
        "\n",
        "n_iter = 50\n",
        "n_span = arange(n_iter)\n",
        "l_rate_span = 1/((1+2 * n_span)**3)\n",
        "weight = ones(785)\n",
        "batch_size = 25\n",
        "weights = train_weights(Xtrain, ytrain, l_rate_span, n_iter, weight, batch_size)\n"
      ],
      "execution_count": null,
      "outputs": [
        {
          "output_type": "stream",
          "name": "stdout",
          "text": [
            "sum_error at  1 iteration is  480.0\n",
            "sum_error at  2 iteration is  267.99999999996703\n",
            "sum_error at  3 iteration is  251.0\n",
            "sum_error at  4 iteration is  248.99998555933774\n",
            "sum_error at  5 iteration is  246.0\n",
            "sum_error at  6 iteration is  247.0\n",
            "sum_error at  7 iteration is  243.0\n",
            "sum_error at  8 iteration is  244.0\n",
            "sum_error at  9 iteration is  244.0\n",
            "sum_error at  10 iteration is  244.0\n",
            "sum_error at  11 iteration is  244.0000017773836\n",
            "sum_error at  12 iteration is  244.99999999988222\n",
            "sum_error at  13 iteration is  244.96861782202265\n",
            "sum_error at  14 iteration is  244.26183503990842\n",
            "sum_error at  15 iteration is  244.9952402383389\n",
            "sum_error at  16 iteration is  244.9971011600033\n",
            "sum_error at  17 iteration is  244.99962556391753\n",
            "sum_error at  18 iteration is  244.99997442443794\n",
            "sum_error at  19 iteration is  244.99999999999997\n",
            "sum_error at  20 iteration is  244.98556601886236\n",
            "sum_error at  21 iteration is  243.99999999989276\n",
            "sum_error at  22 iteration is  243.99999999999199\n",
            "sum_error at  23 iteration is  243.9999999999974\n",
            "sum_error at  24 iteration is  243.9999999999995\n",
            "sum_error at  25 iteration is  243.99999999999972\n",
            "sum_error at  26 iteration is  243.99999999999923\n",
            "sum_error at  27 iteration is  243.99999999999827\n",
            "sum_error at  28 iteration is  243.99999999999966\n",
            "sum_error at  29 iteration is  244.0\n",
            "sum_error at  30 iteration is  243.99999999999997\n",
            "sum_error at  31 iteration is  244.0\n",
            "sum_error at  32 iteration is  244.0\n",
            "sum_error at  33 iteration is  243.99999999999991\n",
            "sum_error at  34 iteration is  243.99999999999994\n",
            "sum_error at  35 iteration is  244.0\n",
            "sum_error at  36 iteration is  244.0\n",
            "sum_error at  37 iteration is  244.0\n",
            "sum_error at  38 iteration is  244.0\n",
            "sum_error at  39 iteration is  244.0\n",
            "sum_error at  40 iteration is  244.0\n",
            "sum_error at  41 iteration is  244.0\n",
            "sum_error at  42 iteration is  244.0\n",
            "sum_error at  43 iteration is  244.0\n",
            "sum_error at  44 iteration is  244.0\n",
            "sum_error at  45 iteration is  244.0\n",
            "sum_error at  46 iteration is  244.0\n",
            "sum_error at  47 iteration is  244.0\n",
            "sum_error at  48 iteration is  244.0\n",
            "sum_error at  49 iteration is  244.0\n",
            "sum_error at  50 iteration is  244.0\n"
          ]
        }
      ]
    },
    {
      "cell_type": "code",
      "source": [
        "ypred = predict(Xtest,weights)\n",
        "ypred[ypred>=1/2] = 1\n",
        "ypred[ypred<1/2] = 0\n",
        "print(\"The test error rate is\", norm(ytest-ypred,1)/1000)\n",
        "fig, axs = plt.subplots(3, 3, figsize=(10,10))\n",
        "axs = axs.ravel()\n",
        "index = where(ytest - ypred!=0)[0]\n",
        "for i in range(9):\n",
        "    axs[i].imshow(Xte[index[i]], cmap=pyplot.get_cmap('gray'))"
      ],
      "metadata": {
        "colab": {
          "base_uri": "https://localhost:8080/",
          "height": 611
        },
        "id": "JONK7RTx2W9C",
        "outputId": "94472b80-38bd-475b-fcfb-db05fd419fb1"
      },
      "execution_count": null,
      "outputs": [
        {
          "output_type": "stream",
          "name": "stdout",
          "text": [
            "The test error rate is 0.047\n"
          ]
        },
        {
          "output_type": "display_data",
          "data": {
            "image/png": "[encoded data removed]",
            "text/plain": [
              "<Figure size 720x720 with 9 Axes>"
            ]
          },
          "metadata": {
            "needs_background": "light"
          }
        }
      ]
    },
    {
      "cell_type": "markdown",
      "metadata": {
        "id": "31BQ2vMFphF6"
      },
      "source": [
        "### **Your Answer:**"
      ]
    },
    {
      "cell_type": "markdown",
      "metadata": {
        "id": "SGwYMQh5veK-"
      },
      "source": [
        "\n",
        "\n",
        "\n",
        "\n",
        "\n",
        "## Q4: Support Vector Machine (45pt)\n",
        "\n",
        "\n",
        "---\n",
        "\n",
        "### 1. Data preparation for training and testing (5pt) (*)\n",
        "Remember in SVM we move the interception out and define the class label is $\\pm1$. Prepare your matrix $\\mathbf{X}$ and your output label $\\mathbf{y}$ for the training data. Don't forget to do the same preparation for the testing data.\n",
        "\n",
        "Can you impose the hard margin classifier for this problem? Why or why not?\n"
      ]
    },
    {
      "cell_type": "code",
      "metadata": {
        "id": "qZkgjb2Gy4Uh",
        "colab": {
          "base_uri": "https://localhost:8080/"
        },
        "outputId": "9683b6bd-1dc8-4c50-825e-b260c9f0346a"
      },
      "source": [
        " #@title Q4.1 your code starts here\n",
        "Xtrain = Xtr.reshape(Xtr.shape[0],Xtr.shape[1]*Xtr.shape[2])\n",
        "ytrain = Ytr\n",
        "ytrain[Ytr==0] = -1\n",
        "print(Xtrain.shape)\n",
        "\n",
        "Xtest = Xte.reshape(Xte.shape[0],Xte.shape[1]*Xte.shape[2])\n",
        "ytest = Yte\n",
        "ytest[Yte==0] = -1\n",
        "print(Xtest.shape)\n"
      ],
      "execution_count": null,
      "outputs": [
        {
          "output_type": "stream",
          "name": "stdout",
          "text": [
            "(6000, 784)\n",
            "(1000, 784)\n"
          ]
        }
      ]
    },
    {
      "cell_type": "markdown",
      "metadata": {
        "id": "9Qt_c9mGwU1T"
      },
      "source": [
        "### **Your Answer:**"
      ]
    },
    {
      "cell_type": "markdown",
      "metadata": {
        "id": "ulRUTLcDzRHl"
      },
      "source": [
        "\n",
        "\n",
        "---\n",
        "\n",
        "\n",
        "### 2. Soft Margin with Hinge Loss (15pt) (***)\n",
        "Perform the soft margin with hinge loss using stochastic gradient descent method.\n",
        "$$\\boxed{\\min_{\\mathbf{w}\\in \\mathbb{R}^d, w_0\\in \\mathbb{R}} \\lambda\\sum_{i=1}^N \\max\\left\\{0, 1-\\mathbf{y}^{(i)}(\\mathbf{w}^\\top \\mathbf{x}^{(i)}+w_0)\\right\\} +\\frac{1}{2} \\|\\mathbf{w}\\|_2^2 }$$\n",
        "The learning rate is $\\eta_t = \\frac{1}{(1+2t)^2}$ and total iteration number is $100$. The regulation parameter $\\lambda$ is selected as follows,\n",
        "$$ \\lambda\\in \\{10^{-4},10^{-3},10^{-2},10^{-1},1,10,100,1000,10000 \\}$$\n",
        "Report the test error rates for each $\\lambda$ and find the best parameter $\\lambda$.\n",
        "You might need to restart the training with better initial conditions.\n"
      ]
    },
    {
      "cell_type": "code",
      "metadata": {
        "id": "l2cxjlVZ3HK4",
        "colab": {
          "base_uri": "https://localhost:8080/"
        },
        "outputId": "33c36389-ad5b-47a4-d21a-17efca4f3d9a"
      },
      "source": [
        " #@title Q4.2 your code starts here\n",
        "def predict(x, w, w0):\n",
        "\tactivation = x.dot(w)+w0\n",
        "\treturn activation\n",
        "def train_weights(X, y, learning_rate_span,lambda_param, n_iter=1000):\n",
        "  N,d = X.shape\n",
        "  w   = ones(784)\n",
        "  w0  = 0\n",
        "  for iter in range(n_iter):\n",
        "    learning_rate = learning_rate_span[iter]\n",
        "    arr = np.arange(N)\n",
        "    random.shuffle(arr)\n",
        "    for i in arr:\n",
        "          condition = y[i] * (w.dot(X[i,:])+w0) >= 1\n",
        "          if condition:\n",
        "            w = w - learning_rate *  w\n",
        "\n",
        "          else:\n",
        "            w  = w - learning_rate * (w - lambda_param *y[i] * X[i,:] )\n",
        "            w0 = w0 - learning_rate * ( -lambda_param * y[i] )\n",
        "  return w, w0\n",
        "\n",
        "L=[10**-4, 10**-3, 10**-2, 10**-1, 1, 10, 100, 1000, 10000]\n",
        "errors = []\n",
        "n_iter = 100\n",
        "n_span = arange(n_iter)\n",
        "learning_rate_span = 1/((1+ 2*n_span)**2)\n",
        "\n",
        "for l in L:\n",
        "  w,w0 = train_weights(Xtrain, ytrain, learning_rate_span, l, n_iter)\n",
        "  ypred = predict(Xtest, w, w0)\n",
        "  ypred[ypred>=0] = 1\n",
        "  ypred[ypred<=0] = -1\n",
        "  error = norm(ypred-ytest,0)/1000\n",
        "  errors.append(error)\n",
        "  print('For lambda =', l, 'the test error rate is', error)\n",
        "#The best lambda is 0.001\n",
        "\n"
      ],
      "execution_count": null,
      "outputs": [
        {
          "output_type": "stream",
          "name": "stdout",
          "text": [
            "For lambda = 0.0001 the test error rate is 0.087\n",
            "For lambda = 0.001 the test error rate is 0.039\n",
            "For lambda = 0.01 the test error rate is 0.044\n",
            "For lambda = 0.1 the test error rate is 0.059\n",
            "For lambda = 1 the test error rate is 0.07\n",
            "For lambda = 10 the test error rate is 0.063\n",
            "For lambda = 100 the test error rate is 0.147\n",
            "For lambda = 1000 the test error rate is 0.061\n",
            "For lambda = 10000 the test error rate is 0.057\n"
          ]
        }
      ]
    },
    {
      "cell_type": "markdown",
      "metadata": {
        "id": "3t3xKcF-3KLH"
      },
      "source": [
        "### **Your Answer:**"
      ]
    },
    {
      "cell_type": "markdown",
      "metadata": {
        "id": "Y0y8ouw8IPOY"
      },
      "source": [
        "\n",
        "\n",
        "---\n",
        "\n",
        "\n",
        "### 3. Prepare for soft margin with log loss (10pt) (*)\n",
        "Please compute the following two gradient:\n",
        "$$ \\nabla_\\mathbf{w} \\log\\left(1+e^{-y^{(i)}(\\mathbf{w}^\\top\\mathbf{x}^{(i)}+w_0 )}\\right)= $$\n",
        "\n",
        "$$ \\nabla_{w_0}\\log\\left(1+e^{-y^{(i)}(\\mathbf{w}^\\top\\mathbf{x}^{(i)}+w_0 )}\\right)=$$"
      ]
    },
    {
      "cell_type": "markdown",
      "metadata": {
        "id": "KPW7r24hI0Bc"
      },
      "source": [
        "### **Your Answer:**\n",
        "$$ \\nabla_\\mathbf{w} \\log\\left(1+e^{-y^{(i)}(\\mathbf{w}^\\top\\mathbf{x}^{(i)}+w_0 )}\\right)=   \\frac{-y^{(i)}\\mathbf{x}^{(i)}}{1+e^{y^{(i)}(\\mathbf{w}^\\top\\mathbf{x}^{(i)}+w_0 )}} $$\n",
        "\n",
        " $$ \\nabla_{w_0}\\log\\left(1+e^{-y^{(i)}(\\mathbf{w}^\\top\\mathbf{x}^{(i)}+w_0 )}\\right)=  \\frac{-y^{(i)}}{1+e^{y^{(i)}(\\mathbf{w}^\\top\\mathbf{x}^{(i)}+w_0 )}}  $$"
      ]
    },
    {
      "cell_type": "markdown",
      "metadata": {
        "id": "ewDvguQH9XS-"
      },
      "source": [
        "\n",
        "\n",
        "---\n",
        "\n",
        "\n",
        "### 4. Soft Margin with Log Loss (15pt) (***)\n",
        "Perform the soft margin with log loss using stochastic gradient descent method.\n",
        "$$\\boxed{\\min_{\\mathbf{w}\\in \\mathbb{R}^d, w_0\\in\\mathbb{R}}  \\lambda \\sum_{i=1}^N\\log\\left(1+e^{-y^{(i)}(\\mathbf{w}^\\top\\mathbf{x}^{(i)}+w_0 )}\\right)  +\\frac{1}{2}\\|\\mathbf{w}\\|_2^2 } $$\n",
        "Similarly, the learning rate is $\\eta_t = \\frac{1}{(1+2t)^2}$ and total iteration number is $100$. The regulation parameter $\\lambda$ is selected as follows,\n",
        "$$ \\lambda\\in \\{10^{-4},10^{-3},10^{-2},10^{-1},1,10,100,1000,10000 \\}$$\n",
        "Report the test error rates for each $\\lambda$ and find the best parameter $\\lambda$.\n",
        "You might need to restart the training with better initial conditions.\n"
      ]
    },
    {
      "cell_type": "code",
      "metadata": {
        "id": "6GzE4I64Mdqp",
        "colab": {
          "base_uri": "https://localhost:8080/"
        },
        "outputId": "5d5f20ae-f90f-4627-ba55-741413e8783e"
      },
      "source": [
        "def predict(x, w, w0):\n",
        "\tactivation = x.dot(w)+w0\n",
        "\treturn activation\n",
        "def train_weights_L(X, y, learning_rate_span,lambda_param, n_iter=1000):\n",
        "  N,d = X.shape\n",
        "  w   = ones(784)\n",
        "  w0  = 0\n",
        "  for iter in range(n_iter):\n",
        "    learning_rate = learning_rate_span[iter]\n",
        "    arr = np.arange(N)\n",
        "    random.shuffle(arr)\n",
        "    for i in arr:\n",
        "      denom = 1 + np.exp( clip(y[i] * (w.dot(X[i,:]) + w0),-200,200) )\n",
        "      w  = w - learning_rate * ( (-lambda_param * y[i] * X[i,:]) / denom + w)\n",
        "      w0 = w0 - learning_rate * ( (-lambda_param * y[i]) / denom )\n",
        "  return w, w0\n",
        "\n",
        "L=[10**-4, 10**-3, 10**-2, 10**-1, 1, 10, 100, 1000, 10000]\n",
        "errors = []\n",
        "n_iter = 100\n",
        "n_span = arange(n_iter)\n",
        "learning_rate_span = 1/((1+ 2*n_span)**2)\n",
        "\n",
        "for l in L:\n",
        "  w,w0 = train_weights_L(Xtrain, ytrain, learning_rate_span, l, n_iter)\n",
        "  ypred = predict(Xtest, w, w0)\n",
        "  ypred[ypred>=0] = 1\n",
        "  ypred[ypred<=0] = -1\n",
        "  error = norm(ypred-ytest,0)/1000\n",
        "  errors.append(error)\n",
        "  print('For lambda =', l, 'the test error rate is', error)\n"
      ],
      "execution_count": null,
      "outputs": [
        {
          "output_type": "stream",
          "name": "stdout",
          "text": [
            "For lambda = 0.0001 the test error rate is 0.09\n",
            "For lambda = 0.001 the test error rate is 0.046\n",
            "For lambda = 0.01 the test error rate is 0.038\n",
            "For lambda = 0.1 the test error rate is 0.054\n",
            "For lambda = 1 the test error rate is 0.053\n",
            "For lambda = 10 the test error rate is 0.076\n",
            "For lambda = 100 the test error rate is 0.066\n",
            "For lambda = 1000 the test error rate is 0.058\n",
            "For lambda = 10000 the test error rate is 0.05\n"
          ]
        }
      ]
    },
    {
      "cell_type": "markdown",
      "metadata": {
        "id": "iQ9_jl56Mf1_"
      },
      "source": [
        "### **Your Answer:**"
      ]
    }
  ]
}